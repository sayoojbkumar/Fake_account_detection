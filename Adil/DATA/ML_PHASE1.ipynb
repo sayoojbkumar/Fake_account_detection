{
  "nbformat": 4,
  "nbformat_minor": 0,
  "metadata": {
    "colab": {
      "name": "ML PHASE1.ipynb",
      "provenance": []
    },
    "kernelspec": {
      "name": "python3",
      "display_name": "Python 3"
    },
    "language_info": {
      "name": "python"
    }
  },
  "cells": [
    {
      "cell_type": "code",
      "metadata": {
        "id": "B9_9Pwhxeh-0"
      },
      "source": [
        "#Adil Muhammed Ashraf PK\n",
        "#AM.EN.U4CSE19003\n",
        "#S5 CSE-A"
      ],
      "execution_count": 74,
      "outputs": []
    },
    {
      "cell_type": "code",
      "metadata": {
        "colab": {
          "base_uri": "https://localhost:8080/",
          "height": 240
        },
        "id": "EV9zFvfMAGbz",
        "outputId": "eabe86e2-c80e-44e0-d9c9-061b9b08a05f"
      },
      "source": [
        "def update_media(x):\n",
        "    if(x>=12):\n",
        "        return 12\n",
        "    else:\n",
        "        return x\n",
        "\n",
        "import pandas as pd\n",
        "pd.options.mode.chained_assignment = None\n",
        "data=pd.read_csv('/content/sample_data/Adil.csv')\n",
        "data['is_verified']=data['is_verified'].replace({False : 0})\n",
        "data['is_verified']=data['is_verified'].replace({True : 1})\n",
        "data['is_private']=data['is_private'].replace({False : 0})\n",
        "data['is_private']=data['is_private'].replace({True : 1})\n",
        "data.drop('fbid',inplace=True, axis=1)\n",
        "data.drop('seo_category_infos',inplace=True, axis=1)\n",
        "data.drop('business_phone_number',inplace=True, axis=1)\n",
        "data.drop('business_email',inplace=True, axis=1)\n",
        "data['is_professional_account']=data['is_professional_account'].replace({False : 0})\n",
        "data['is_professional_account']=data['is_professional_account'].replace({True : 1})\n",
        "data['has_anonymous_profile_picture']=data['has_anonymous_profile_picture'].replace({False : 0})\n",
        "data['has_anonymous_profile_picture']=data['has_anonymous_profile_picture'].replace({True : 1})\n",
        "data['has_clips']=data['has_clips'].replace({False : 0})\n",
        "data['has_clips']=data['has_clips'].replace({True : 1})\n",
        "data.fillna(0, inplace=True)\n",
        "data.drop('username.1',inplace=True, axis=1)\n",
        "for i in range(0,len(data['username'])):\n",
        "    if(data['external_url'][i]!=0):\n",
        "        data['external_url'][i]=1\n",
        "data['name_length'] = data['full_name'].str.len()\n",
        "data['media_count_of_data_collected']=data['media_count'].apply(lambda x: update_media(x))\n",
        "data['average_likes']=data['total_likes']/data['media_count_of_data_collected']       \n",
        "\n",
        "data.fillna(0, inplace=True)\n",
        "data.to_csv('cleaned.csv',index=False)\n",
        "data.head()"
      ],
      "execution_count": 42,
      "outputs": [
        {
          "output_type": "execute_result",
          "data": {
            "text/html": [
              "<div>\n",
              "<style scoped>\n",
              "    .dataframe tbody tr th:only-of-type {\n",
              "        vertical-align: middle;\n",
              "    }\n",
              "\n",
              "    .dataframe tbody tr th {\n",
              "        vertical-align: top;\n",
              "    }\n",
              "\n",
              "    .dataframe thead th {\n",
              "        text-align: right;\n",
              "    }\n",
              "</style>\n",
              "<table border=\"1\" class=\"dataframe\">\n",
              "  <thead>\n",
              "    <tr style=\"text-align: right;\">\n",
              "      <th></th>\n",
              "      <th>username</th>\n",
              "      <th>full_name</th>\n",
              "      <th>is_verified</th>\n",
              "      <th>has_anonymous_profile_picture</th>\n",
              "      <th>biography_len</th>\n",
              "      <th>external_url</th>\n",
              "      <th>followers</th>\n",
              "      <th>following</th>\n",
              "      <th>has_clips</th>\n",
              "      <th>highlight_count</th>\n",
              "      <th>is_professional_account</th>\n",
              "      <th>is_private</th>\n",
              "      <th>media_count</th>\n",
              "      <th>total_tags</th>\n",
              "      <th>total_likes</th>\n",
              "      <th>total_comments</th>\n",
              "      <th>name_length</th>\n",
              "      <th>media_count_of_data_collected</th>\n",
              "      <th>average_likes</th>\n",
              "    </tr>\n",
              "  </thead>\n",
              "  <tbody>\n",
              "    <tr>\n",
              "      <th>0</th>\n",
              "      <td>shkb_shaz</td>\n",
              "      <td>شكيب شاهز💫MuhammedShakkeeb</td>\n",
              "      <td>0</td>\n",
              "      <td>0</td>\n",
              "      <td>68</td>\n",
              "      <td>0</td>\n",
              "      <td>1177</td>\n",
              "      <td>1091</td>\n",
              "      <td>1</td>\n",
              "      <td>10</td>\n",
              "      <td>1</td>\n",
              "      <td>0</td>\n",
              "      <td>102</td>\n",
              "      <td>25</td>\n",
              "      <td>3788</td>\n",
              "      <td>107</td>\n",
              "      <td>26.0</td>\n",
              "      <td>12</td>\n",
              "      <td>315.666667</td>\n",
              "    </tr>\n",
              "    <tr>\n",
              "      <th>1</th>\n",
              "      <td>sayoojbkumar</td>\n",
              "      <td>💲🅱️k</td>\n",
              "      <td>0</td>\n",
              "      <td>0</td>\n",
              "      <td>51</td>\n",
              "      <td>1</td>\n",
              "      <td>853</td>\n",
              "      <td>851</td>\n",
              "      <td>0</td>\n",
              "      <td>14</td>\n",
              "      <td>1</td>\n",
              "      <td>0</td>\n",
              "      <td>79</td>\n",
              "      <td>29</td>\n",
              "      <td>2996</td>\n",
              "      <td>281</td>\n",
              "      <td>4.0</td>\n",
              "      <td>12</td>\n",
              "      <td>249.666667</td>\n",
              "    </tr>\n",
              "    <tr>\n",
              "      <th>2</th>\n",
              "      <td>devadath__pramod_</td>\n",
              "      <td>Devadath      亗ㅤ</td>\n",
              "      <td>0</td>\n",
              "      <td>0</td>\n",
              "      <td>0</td>\n",
              "      <td>0</td>\n",
              "      <td>307</td>\n",
              "      <td>292</td>\n",
              "      <td>0</td>\n",
              "      <td>1</td>\n",
              "      <td>0</td>\n",
              "      <td>0</td>\n",
              "      <td>2</td>\n",
              "      <td>0</td>\n",
              "      <td>290</td>\n",
              "      <td>49</td>\n",
              "      <td>16.0</td>\n",
              "      <td>2</td>\n",
              "      <td>145.000000</td>\n",
              "    </tr>\n",
              "    <tr>\n",
              "      <th>3</th>\n",
              "      <td>muhd____ramshad</td>\n",
              "      <td>Ramshad</td>\n",
              "      <td>0</td>\n",
              "      <td>0</td>\n",
              "      <td>0</td>\n",
              "      <td>0</td>\n",
              "      <td>371</td>\n",
              "      <td>623</td>\n",
              "      <td>0</td>\n",
              "      <td>2</td>\n",
              "      <td>0</td>\n",
              "      <td>0</td>\n",
              "      <td>4</td>\n",
              "      <td>8</td>\n",
              "      <td>520</td>\n",
              "      <td>24</td>\n",
              "      <td>7.0</td>\n",
              "      <td>4</td>\n",
              "      <td>130.000000</td>\n",
              "    </tr>\n",
              "    <tr>\n",
              "      <th>4</th>\n",
              "      <td>s_h_i_n_z_</td>\n",
              "      <td>Shins</td>\n",
              "      <td>0</td>\n",
              "      <td>0</td>\n",
              "      <td>0</td>\n",
              "      <td>0</td>\n",
              "      <td>598</td>\n",
              "      <td>166</td>\n",
              "      <td>0</td>\n",
              "      <td>0</td>\n",
              "      <td>1</td>\n",
              "      <td>0</td>\n",
              "      <td>2</td>\n",
              "      <td>0</td>\n",
              "      <td>687</td>\n",
              "      <td>18</td>\n",
              "      <td>5.0</td>\n",
              "      <td>2</td>\n",
              "      <td>343.500000</td>\n",
              "    </tr>\n",
              "  </tbody>\n",
              "</table>\n",
              "</div>"
            ],
            "text/plain": [
              "            username  ... average_likes\n",
              "0          shkb_shaz  ...    315.666667\n",
              "1       sayoojbkumar  ...    249.666667\n",
              "2  devadath__pramod_  ...    145.000000\n",
              "3    muhd____ramshad  ...    130.000000\n",
              "4         s_h_i_n_z_  ...    343.500000\n",
              "\n",
              "[5 rows x 19 columns]"
            ]
          },
          "metadata": {},
          "execution_count": 42
        }
      ]
    },
    {
      "cell_type": "code",
      "metadata": {
        "id": "YflpXLwcKAY8"
      },
      "source": [
        "df = data"
      ],
      "execution_count": 43,
      "outputs": []
    },
    {
      "cell_type": "code",
      "metadata": {
        "colab": {
          "base_uri": "https://localhost:8080/",
          "height": 0
        },
        "id": "P9y4AClHMzTC",
        "outputId": "d61ebe87-9686-4940-f54f-7fbaf88e1dfb"
      },
      "source": [
        "print(df.isnull().sum())"
      ],
      "execution_count": 44,
      "outputs": [
        {
          "output_type": "stream",
          "name": "stdout",
          "text": [
            "username                         0\n",
            "full_name                        0\n",
            "is_verified                      0\n",
            "has_anonymous_profile_picture    0\n",
            "biography_len                    0\n",
            "external_url                     0\n",
            "followers                        0\n",
            "following                        0\n",
            "has_clips                        0\n",
            "highlight_count                  0\n",
            "is_professional_account          0\n",
            "is_private                       0\n",
            "media_count                      0\n",
            "total_tags                       0\n",
            "total_likes                      0\n",
            "total_comments                   0\n",
            "name_length                      0\n",
            "media_count_of_data_collected    0\n",
            "average_likes                    0\n",
            "dtype: int64\n"
          ]
        }
      ]
    },
    {
      "cell_type": "code",
      "metadata": {
        "colab": {
          "base_uri": "https://localhost:8080/",
          "height": 437
        },
        "id": "2O1Ct_ADN2oJ",
        "outputId": "05cf0165-feec-44e1-c796-d17fd2ad034a"
      },
      "source": [
        "normalized=pd.read_csv('cleaned.csv')\n",
        "normalized.drop('username',inplace=True,axis=1)\n",
        "normalized.drop('full_name',inplace=True,axis=1)\n",
        "normalized = normalized.iloc[:,1:]\n",
        "x = normalized.iloc[:,1:]\n",
        "normalized.iloc[:,1:] = (x-x.min())/ (x.max() - x.min())\n",
        "data=normalized\n",
        "data"
      ],
      "execution_count": 45,
      "outputs": [
        {
          "output_type": "execute_result",
          "data": {
            "text/html": [
              "<div>\n",
              "<style scoped>\n",
              "    .dataframe tbody tr th:only-of-type {\n",
              "        vertical-align: middle;\n",
              "    }\n",
              "\n",
              "    .dataframe tbody tr th {\n",
              "        vertical-align: top;\n",
              "    }\n",
              "\n",
              "    .dataframe thead th {\n",
              "        text-align: right;\n",
              "    }\n",
              "</style>\n",
              "<table border=\"1\" class=\"dataframe\">\n",
              "  <thead>\n",
              "    <tr style=\"text-align: right;\">\n",
              "      <th></th>\n",
              "      <th>has_anonymous_profile_picture</th>\n",
              "      <th>biography_len</th>\n",
              "      <th>external_url</th>\n",
              "      <th>followers</th>\n",
              "      <th>following</th>\n",
              "      <th>has_clips</th>\n",
              "      <th>highlight_count</th>\n",
              "      <th>is_professional_account</th>\n",
              "      <th>is_private</th>\n",
              "      <th>media_count</th>\n",
              "      <th>total_tags</th>\n",
              "      <th>total_likes</th>\n",
              "      <th>total_comments</th>\n",
              "      <th>name_length</th>\n",
              "      <th>media_count_of_data_collected</th>\n",
              "      <th>average_likes</th>\n",
              "    </tr>\n",
              "  </thead>\n",
              "  <tbody>\n",
              "    <tr>\n",
              "      <th>0</th>\n",
              "      <td>0</td>\n",
              "      <td>0.453333</td>\n",
              "      <td>0.0</td>\n",
              "      <td>0.046878</td>\n",
              "      <td>0.155214</td>\n",
              "      <td>1.0</td>\n",
              "      <td>0.192308</td>\n",
              "      <td>1.0</td>\n",
              "      <td>0.0</td>\n",
              "      <td>0.213389</td>\n",
              "      <td>0.100806</td>\n",
              "      <td>0.201693</td>\n",
              "      <td>0.064458</td>\n",
              "      <td>0.666667</td>\n",
              "      <td>1.000000</td>\n",
              "      <td>0.201693</td>\n",
              "    </tr>\n",
              "    <tr>\n",
              "      <th>1</th>\n",
              "      <td>0</td>\n",
              "      <td>0.340000</td>\n",
              "      <td>1.0</td>\n",
              "      <td>0.033907</td>\n",
              "      <td>0.121070</td>\n",
              "      <td>0.0</td>\n",
              "      <td>0.269231</td>\n",
              "      <td>1.0</td>\n",
              "      <td>0.0</td>\n",
              "      <td>0.165272</td>\n",
              "      <td>0.116935</td>\n",
              "      <td>0.159523</td>\n",
              "      <td>0.169277</td>\n",
              "      <td>0.102564</td>\n",
              "      <td>1.000000</td>\n",
              "      <td>0.159523</td>\n",
              "    </tr>\n",
              "    <tr>\n",
              "      <th>2</th>\n",
              "      <td>0</td>\n",
              "      <td>0.000000</td>\n",
              "      <td>0.0</td>\n",
              "      <td>0.012050</td>\n",
              "      <td>0.041542</td>\n",
              "      <td>0.0</td>\n",
              "      <td>0.019231</td>\n",
              "      <td>0.0</td>\n",
              "      <td>0.0</td>\n",
              "      <td>0.004184</td>\n",
              "      <td>0.000000</td>\n",
              "      <td>0.015441</td>\n",
              "      <td>0.029518</td>\n",
              "      <td>0.410256</td>\n",
              "      <td>0.166667</td>\n",
              "      <td>0.092647</td>\n",
              "    </tr>\n",
              "    <tr>\n",
              "      <th>3</th>\n",
              "      <td>0</td>\n",
              "      <td>0.000000</td>\n",
              "      <td>0.0</td>\n",
              "      <td>0.014612</td>\n",
              "      <td>0.088633</td>\n",
              "      <td>0.0</td>\n",
              "      <td>0.038462</td>\n",
              "      <td>0.0</td>\n",
              "      <td>0.0</td>\n",
              "      <td>0.008368</td>\n",
              "      <td>0.032258</td>\n",
              "      <td>0.027688</td>\n",
              "      <td>0.014458</td>\n",
              "      <td>0.179487</td>\n",
              "      <td>0.333333</td>\n",
              "      <td>0.083063</td>\n",
              "    </tr>\n",
              "    <tr>\n",
              "      <th>4</th>\n",
              "      <td>0</td>\n",
              "      <td>0.000000</td>\n",
              "      <td>0.0</td>\n",
              "      <td>0.023699</td>\n",
              "      <td>0.023616</td>\n",
              "      <td>0.0</td>\n",
              "      <td>0.000000</td>\n",
              "      <td>1.0</td>\n",
              "      <td>0.0</td>\n",
              "      <td>0.004184</td>\n",
              "      <td>0.000000</td>\n",
              "      <td>0.036580</td>\n",
              "      <td>0.010843</td>\n",
              "      <td>0.128205</td>\n",
              "      <td>0.166667</td>\n",
              "      <td>0.219477</td>\n",
              "    </tr>\n",
              "    <tr>\n",
              "      <th>...</th>\n",
              "      <td>...</td>\n",
              "      <td>...</td>\n",
              "      <td>...</td>\n",
              "      <td>...</td>\n",
              "      <td>...</td>\n",
              "      <td>...</td>\n",
              "      <td>...</td>\n",
              "      <td>...</td>\n",
              "      <td>...</td>\n",
              "      <td>...</td>\n",
              "      <td>...</td>\n",
              "      <td>...</td>\n",
              "      <td>...</td>\n",
              "      <td>...</td>\n",
              "      <td>...</td>\n",
              "      <td>...</td>\n",
              "    </tr>\n",
              "    <tr>\n",
              "      <th>489</th>\n",
              "      <td>0</td>\n",
              "      <td>0.000000</td>\n",
              "      <td>0.0</td>\n",
              "      <td>0.040272</td>\n",
              "      <td>0.105136</td>\n",
              "      <td>0.0</td>\n",
              "      <td>0.076923</td>\n",
              "      <td>0.0</td>\n",
              "      <td>1.0</td>\n",
              "      <td>0.012552</td>\n",
              "      <td>0.096774</td>\n",
              "      <td>0.073798</td>\n",
              "      <td>0.083133</td>\n",
              "      <td>0.282051</td>\n",
              "      <td>0.500000</td>\n",
              "      <td>0.147596</td>\n",
              "    </tr>\n",
              "    <tr>\n",
              "      <th>490</th>\n",
              "      <td>0</td>\n",
              "      <td>0.700000</td>\n",
              "      <td>0.0</td>\n",
              "      <td>0.044115</td>\n",
              "      <td>0.097738</td>\n",
              "      <td>0.0</td>\n",
              "      <td>0.173077</td>\n",
              "      <td>0.0</td>\n",
              "      <td>1.0</td>\n",
              "      <td>0.035565</td>\n",
              "      <td>0.548387</td>\n",
              "      <td>0.195783</td>\n",
              "      <td>0.635542</td>\n",
              "      <td>0.230769</td>\n",
              "      <td>1.000000</td>\n",
              "      <td>0.195783</td>\n",
              "    </tr>\n",
              "    <tr>\n",
              "      <th>491</th>\n",
              "      <td>0</td>\n",
              "      <td>0.000000</td>\n",
              "      <td>0.0</td>\n",
              "      <td>0.281305</td>\n",
              "      <td>0.157917</td>\n",
              "      <td>1.0</td>\n",
              "      <td>0.269231</td>\n",
              "      <td>1.0</td>\n",
              "      <td>0.0</td>\n",
              "      <td>0.112971</td>\n",
              "      <td>0.044355</td>\n",
              "      <td>0.412917</td>\n",
              "      <td>0.115060</td>\n",
              "      <td>0.256410</td>\n",
              "      <td>1.000000</td>\n",
              "      <td>0.412917</td>\n",
              "    </tr>\n",
              "    <tr>\n",
              "      <th>492</th>\n",
              "      <td>0</td>\n",
              "      <td>0.253333</td>\n",
              "      <td>0.0</td>\n",
              "      <td>0.064532</td>\n",
              "      <td>0.119078</td>\n",
              "      <td>1.0</td>\n",
              "      <td>0.134615</td>\n",
              "      <td>1.0</td>\n",
              "      <td>0.0</td>\n",
              "      <td>0.002092</td>\n",
              "      <td>0.000000</td>\n",
              "      <td>0.017464</td>\n",
              "      <td>0.042771</td>\n",
              "      <td>0.128205</td>\n",
              "      <td>0.083333</td>\n",
              "      <td>0.209574</td>\n",
              "    </tr>\n",
              "    <tr>\n",
              "      <th>493</th>\n",
              "      <td>0</td>\n",
              "      <td>1.000000</td>\n",
              "      <td>0.0</td>\n",
              "      <td>0.013811</td>\n",
              "      <td>0.034429</td>\n",
              "      <td>1.0</td>\n",
              "      <td>0.076923</td>\n",
              "      <td>1.0</td>\n",
              "      <td>0.0</td>\n",
              "      <td>0.223849</td>\n",
              "      <td>0.000000</td>\n",
              "      <td>0.042383</td>\n",
              "      <td>0.021687</td>\n",
              "      <td>0.410256</td>\n",
              "      <td>1.000000</td>\n",
              "      <td>0.042383</td>\n",
              "    </tr>\n",
              "  </tbody>\n",
              "</table>\n",
              "<p>494 rows × 16 columns</p>\n",
              "</div>"
            ],
            "text/plain": [
              "     has_anonymous_profile_picture  ...  average_likes\n",
              "0                                0  ...       0.201693\n",
              "1                                0  ...       0.159523\n",
              "2                                0  ...       0.092647\n",
              "3                                0  ...       0.083063\n",
              "4                                0  ...       0.219477\n",
              "..                             ...  ...            ...\n",
              "489                              0  ...       0.147596\n",
              "490                              0  ...       0.195783\n",
              "491                              0  ...       0.412917\n",
              "492                              0  ...       0.209574\n",
              "493                              0  ...       0.042383\n",
              "\n",
              "[494 rows x 16 columns]"
            ]
          },
          "metadata": {},
          "execution_count": 45
        }
      ]
    },
    {
      "cell_type": "code",
      "metadata": {
        "colab": {
          "base_uri": "https://localhost:8080/",
          "height": 765
        },
        "id": "2vfBw5SoU7je",
        "outputId": "99a274d1-304c-4168-a683-aa6e296d0f3c"
      },
      "source": [
        "\n",
        "plt.scatter(df['followers'], df['total_likes'])\n",
        "plt.show()\n",
        "\n",
        "plt.scatter(df['followers'], df['media_count'])\n",
        "plt.show()\n",
        "\n",
        "plt.scatter(df['media_count'], df['total_likes'])\n",
        "plt.show()\n"
      ],
      "execution_count": 46,
      "outputs": [
        {
          "output_type": "display_data",
          "data": {
            "image/png": "[encoded data removed]",
            "text/plain": [
              "<Figure size 432x288 with 1 Axes>"
            ]
          },
          "metadata": {
            "needs_background": "light"
          }
        },
        {
          "output_type": "display_data",
          "data": {
            "image/png": "[encoded data removed]",
            "text/plain": [
              "<Figure size 432x288 with 1 Axes>"
            ]
          },
          "metadata": {
            "needs_background": "light"
          }
        },
        {
          "output_type": "display_data",
          "data": {
            "image/png": "[encoded data removed]",
            "text/plain": [
              "<Figure size 432x288 with 1 Axes>"
            ]
          },
          "metadata": {
            "needs_background": "light"
          }
        }
      ]
    },
    {
      "cell_type": "code",
      "metadata": {
        "colab": {
          "base_uri": "https://localhost:8080/",
          "height": 281
        },
        "id": "-7aoFm37WYYf",
        "outputId": "02ed07c8-f7bc-42a2-b860-bd9698519b16"
      },
      "source": [
        "df.hist()\n",
        "plt.show()"
      ],
      "execution_count": 53,
      "outputs": [
        {
          "output_type": "display_data",
          "data": {
            "image/png": "[encoded data removed]",
            "text/plain": [
              "<Figure size 432x288 with 20 Axes>"
            ]
          },
          "metadata": {
            "needs_background": "light"
          }
        }
      ]
    },
    {
      "cell_type": "code",
      "metadata": {
        "colab": {
          "base_uri": "https://localhost:8080/",
          "height": 282
        },
        "id": "s00E9uBuZE0K",
        "outputId": "e0a9d4e4-1d96-44f8-f90f-86ecaecc1839"
      },
      "source": [
        "data.followers.hist()"
      ],
      "execution_count": 58,
      "outputs": [
        {
          "output_type": "execute_result",
          "data": {
            "text/plain": [
              "<matplotlib.axes._subplots.AxesSubplot at 0x7f0df0a2c0d0>"
            ]
          },
          "metadata": {},
          "execution_count": 58
        },
        {
          "output_type": "display_data",
          "data": {
            "image/png": "[encoded data removed]",
            "text/plain": [
              "<Figure size 432x288 with 1 Axes>"
            ]
          },
          "metadata": {
            "needs_background": "light"
          }
        }
      ]
    },
    {
      "cell_type": "code",
      "metadata": {
        "colab": {
          "base_uri": "https://localhost:8080/",
          "height": 282
        },
        "id": "bGAxJ6PqZmAq",
        "outputId": "4b158926-e954-419c-b9bc-1d8b675b4e4a"
      },
      "source": [
        "data.following.hist()"
      ],
      "execution_count": 59,
      "outputs": [
        {
          "output_type": "execute_result",
          "data": {
            "text/plain": [
              "<matplotlib.axes._subplots.AxesSubplot at 0x7f0df834cf90>"
            ]
          },
          "metadata": {},
          "execution_count": 59
        },
        {
          "output_type": "display_data",
          "data": {
            "image/png": "[encoded data removed]",
            "text/plain": [
              "<Figure size 432x288 with 1 Axes>"
            ]
          },
          "metadata": {
            "needs_background": "light"
          }
        }
      ]
    },
    {
      "cell_type": "code",
      "metadata": {
        "colab": {
          "base_uri": "https://localhost:8080/",
          "height": 286
        },
        "id": "n2bUWQEGZprV",
        "outputId": "40252798-5b65-46d8-e66f-45573cfae97f"
      },
      "source": [
        "data.has_anonymous_profile_picture.hist()"
      ],
      "execution_count": 60,
      "outputs": [
        {
          "output_type": "execute_result",
          "data": {
            "text/plain": [
              "<matplotlib.axes._subplots.AxesSubplot at 0x7f0df6594890>"
            ]
          },
          "metadata": {},
          "execution_count": 60
        },
        {
          "output_type": "display_data",
          "data": {
            "image/png": "[encoded data removed]",
            "text/plain": [
              "<Figure size 432x288 with 1 Axes>"
            ]
          },
          "metadata": {
            "needs_background": "light"
          }
        }
      ]
    },
    {
      "cell_type": "code",
      "metadata": {
        "colab": {
          "base_uri": "https://localhost:8080/",
          "height": 282
        },
        "id": "USv0jCzPZzbJ",
        "outputId": "aed93947-99c5-43c7-8181-051794273f8f"
      },
      "source": [
        "data.has_clips.hist()"
      ],
      "execution_count": 61,
      "outputs": [
        {
          "output_type": "execute_result",
          "data": {
            "text/plain": [
              "<matplotlib.axes._subplots.AxesSubplot at 0x7f0df1200f10>"
            ]
          },
          "metadata": {},
          "execution_count": 61
        },
        {
          "output_type": "display_data",
          "data": {
            "image/png": "[encoded data removed]",
            "text/plain": [
              "<Figure size 432x288 with 1 Axes>"
            ]
          },
          "metadata": {
            "needs_background": "light"
          }
        }
      ]
    },
    {
      "cell_type": "code",
      "metadata": {
        "colab": {
          "base_uri": "https://localhost:8080/",
          "height": 284
        },
        "id": "JKJNQUZwZ-FW",
        "outputId": "19530aa6-3e5b-4b06-cd22-983776c349be"
      },
      "source": [
        "data.highlight_count.hist()"
      ],
      "execution_count": 62,
      "outputs": [
        {
          "output_type": "execute_result",
          "data": {
            "text/plain": [
              "<matplotlib.axes._subplots.AxesSubplot at 0x7f0df7b78bd0>"
            ]
          },
          "metadata": {},
          "execution_count": 62
        },
        {
          "output_type": "display_data",
          "data": {
            "image/png": "[encoded data removed]",
            "text/plain": [
              "<Figure size 432x288 with 1 Axes>"
            ]
          },
          "metadata": {
            "needs_background": "light"
          }
        }
      ]
    },
    {
      "cell_type": "code",
      "metadata": {
        "colab": {
          "base_uri": "https://localhost:8080/",
          "height": 282
        },
        "id": "xNtsRwLpaRvm",
        "outputId": "903309b9-604d-4f3f-d2c3-8fc79c66b93f"
      },
      "source": [
        "data.media_count.hist()"
      ],
      "execution_count": 63,
      "outputs": [
        {
          "output_type": "execute_result",
          "data": {
            "text/plain": [
              "<matplotlib.axes._subplots.AxesSubplot at 0x7f0df7901d10>"
            ]
          },
          "metadata": {},
          "execution_count": 63
        },
        {
          "output_type": "display_data",
          "data": {
            "image/png": "[encoded data removed]",
            "text/plain": [
              "<Figure size 432x288 with 1 Axes>"
            ]
          },
          "metadata": {
            "needs_background": "light"
          }
        }
      ]
    },
    {
      "cell_type": "code",
      "metadata": {
        "colab": {
          "base_uri": "https://localhost:8080/",
          "height": 286
        },
        "id": "0nj8bZGBapKu",
        "outputId": "cca985dc-9df4-4de2-f573-26c4be03bb57"
      },
      "source": [
        "data.total_tags.hist()"
      ],
      "execution_count": 64,
      "outputs": [
        {
          "output_type": "execute_result",
          "data": {
            "text/plain": [
              "<matplotlib.axes._subplots.AxesSubplot at 0x7f0df5d66390>"
            ]
          },
          "metadata": {},
          "execution_count": 64
        },
        {
          "output_type": "display_data",
          "data": {
            "image/png": "[encoded data removed]",
            "text/plain": [
              "<Figure size 432x288 with 1 Axes>"
            ]
          },
          "metadata": {
            "needs_background": "light"
          }
        }
      ]
    },
    {
      "cell_type": "code",
      "metadata": {
        "colab": {
          "base_uri": "https://localhost:8080/",
          "height": 282
        },
        "id": "UFsMOnYmap_r",
        "outputId": "95c6f9d4-e61f-4e1f-f38a-dae784a21141"
      },
      "source": [
        "data.total_likes.hist()"
      ],
      "execution_count": 65,
      "outputs": [
        {
          "output_type": "execute_result",
          "data": {
            "text/plain": [
              "<matplotlib.axes._subplots.AxesSubplot at 0x7f0df79daf90>"
            ]
          },
          "metadata": {},
          "execution_count": 65
        },
        {
          "output_type": "display_data",
          "data": {
            "image/png": "[encoded data removed]",
            "text/plain": [
              "<Figure size 432x288 with 1 Axes>"
            ]
          },
          "metadata": {
            "needs_background": "light"
          }
        }
      ]
    },
    {
      "cell_type": "code",
      "metadata": {
        "colab": {
          "base_uri": "https://localhost:8080/",
          "height": 282
        },
        "id": "8pCb8Ff6aq5A",
        "outputId": "5880fb86-d9d4-4cc4-bc7b-f363385b12f5"
      },
      "source": [
        "data.total_comments.hist()"
      ],
      "execution_count": 66,
      "outputs": [
        {
          "output_type": "execute_result",
          "data": {
            "text/plain": [
              "<matplotlib.axes._subplots.AxesSubplot at 0x7f0df62b4810>"
            ]
          },
          "metadata": {},
          "execution_count": 66
        },
        {
          "output_type": "display_data",
          "data": {
            "image/png": "[encoded data removed]",
            "text/plain": [
              "<Figure size 432x288 with 1 Axes>"
            ]
          },
          "metadata": {
            "needs_background": "light"
          }
        }
      ]
    },
    {
      "cell_type": "code",
      "metadata": {
        "colab": {
          "base_uri": "https://localhost:8080/",
          "height": 315
        },
        "id": "vENnb-o5a-1Q",
        "outputId": "205866a7-eff8-4448-bd58-7084481bc2d5"
      },
      "source": [
        "data.describe()"
      ],
      "execution_count": 67,
      "outputs": [
        {
          "output_type": "execute_result",
          "data": {
            "text/html": [
              "<div>\n",
              "<style scoped>\n",
              "    .dataframe tbody tr th:only-of-type {\n",
              "        vertical-align: middle;\n",
              "    }\n",
              "\n",
              "    .dataframe tbody tr th {\n",
              "        vertical-align: top;\n",
              "    }\n",
              "\n",
              "    .dataframe thead th {\n",
              "        text-align: right;\n",
              "    }\n",
              "</style>\n",
              "<table border=\"1\" class=\"dataframe\">\n",
              "  <thead>\n",
              "    <tr style=\"text-align: right;\">\n",
              "      <th></th>\n",
              "      <th>has_anonymous_profile_picture</th>\n",
              "      <th>biography_len</th>\n",
              "      <th>external_url</th>\n",
              "      <th>followers</th>\n",
              "      <th>following</th>\n",
              "      <th>has_clips</th>\n",
              "      <th>highlight_count</th>\n",
              "      <th>is_professional_account</th>\n",
              "      <th>is_private</th>\n",
              "      <th>media_count</th>\n",
              "      <th>total_tags</th>\n",
              "      <th>total_likes</th>\n",
              "      <th>total_comments</th>\n",
              "      <th>name_length</th>\n",
              "      <th>media_count_of_data_collected</th>\n",
              "      <th>average_likes</th>\n",
              "    </tr>\n",
              "  </thead>\n",
              "  <tbody>\n",
              "    <tr>\n",
              "      <th>count</th>\n",
              "      <td>494.000000</td>\n",
              "      <td>494.000000</td>\n",
              "      <td>494.000000</td>\n",
              "      <td>494.000000</td>\n",
              "      <td>494.000000</td>\n",
              "      <td>494.000000</td>\n",
              "      <td>494.000000</td>\n",
              "      <td>494.000000</td>\n",
              "      <td>494.000000</td>\n",
              "      <td>494.000000</td>\n",
              "      <td>494.000000</td>\n",
              "      <td>494.000000</td>\n",
              "      <td>494.000000</td>\n",
              "      <td>494.000000</td>\n",
              "      <td>494.000000</td>\n",
              "      <td>494.000000</td>\n",
              "    </tr>\n",
              "    <tr>\n",
              "      <th>mean</th>\n",
              "      <td>0.032389</td>\n",
              "      <td>0.296127</td>\n",
              "      <td>0.080972</td>\n",
              "      <td>0.046907</td>\n",
              "      <td>0.133858</td>\n",
              "      <td>0.265182</td>\n",
              "      <td>0.096816</td>\n",
              "      <td>0.331984</td>\n",
              "      <td>0.408907</td>\n",
              "      <td>0.064841</td>\n",
              "      <td>0.072050</td>\n",
              "      <td>0.106107</td>\n",
              "      <td>0.092642</td>\n",
              "      <td>0.271411</td>\n",
              "      <td>0.644062</td>\n",
              "      <td>0.132738</td>\n",
              "    </tr>\n",
              "    <tr>\n",
              "      <th>std</th>\n",
              "      <td>0.177210</td>\n",
              "      <td>0.305922</td>\n",
              "      <td>0.273068</td>\n",
              "      <td>0.065401</td>\n",
              "      <td>0.138687</td>\n",
              "      <td>0.441878</td>\n",
              "      <td>0.131661</td>\n",
              "      <td>0.471403</td>\n",
              "      <td>0.492130</td>\n",
              "      <td>0.116197</td>\n",
              "      <td>0.122560</td>\n",
              "      <td>0.123147</td>\n",
              "      <td>0.125181</td>\n",
              "      <td>0.140489</td>\n",
              "      <td>0.408725</td>\n",
              "      <td>0.127896</td>\n",
              "    </tr>\n",
              "    <tr>\n",
              "      <th>min</th>\n",
              "      <td>0.000000</td>\n",
              "      <td>0.000000</td>\n",
              "      <td>0.000000</td>\n",
              "      <td>0.000000</td>\n",
              "      <td>0.000000</td>\n",
              "      <td>0.000000</td>\n",
              "      <td>0.000000</td>\n",
              "      <td>0.000000</td>\n",
              "      <td>0.000000</td>\n",
              "      <td>0.000000</td>\n",
              "      <td>0.000000</td>\n",
              "      <td>0.000000</td>\n",
              "      <td>0.000000</td>\n",
              "      <td>0.000000</td>\n",
              "      <td>0.000000</td>\n",
              "      <td>0.000000</td>\n",
              "    </tr>\n",
              "    <tr>\n",
              "      <th>25%</th>\n",
              "      <td>0.000000</td>\n",
              "      <td>0.013333</td>\n",
              "      <td>0.000000</td>\n",
              "      <td>0.015663</td>\n",
              "      <td>0.051359</td>\n",
              "      <td>0.000000</td>\n",
              "      <td>0.000000</td>\n",
              "      <td>0.000000</td>\n",
              "      <td>0.000000</td>\n",
              "      <td>0.006276</td>\n",
              "      <td>0.000000</td>\n",
              "      <td>0.016187</td>\n",
              "      <td>0.006627</td>\n",
              "      <td>0.179487</td>\n",
              "      <td>0.250000</td>\n",
              "      <td>0.045046</td>\n",
              "    </tr>\n",
              "    <tr>\n",
              "      <th>50%</th>\n",
              "      <td>0.000000</td>\n",
              "      <td>0.193333</td>\n",
              "      <td>0.000000</td>\n",
              "      <td>0.030404</td>\n",
              "      <td>0.094252</td>\n",
              "      <td>0.000000</td>\n",
              "      <td>0.057692</td>\n",
              "      <td>0.000000</td>\n",
              "      <td>0.000000</td>\n",
              "      <td>0.023013</td>\n",
              "      <td>0.028226</td>\n",
              "      <td>0.073266</td>\n",
              "      <td>0.053012</td>\n",
              "      <td>0.256410</td>\n",
              "      <td>0.916667</td>\n",
              "      <td>0.114185</td>\n",
              "    </tr>\n",
              "    <tr>\n",
              "      <th>75%</th>\n",
              "      <td>0.000000</td>\n",
              "      <td>0.505000</td>\n",
              "      <td>0.000000</td>\n",
              "      <td>0.050400</td>\n",
              "      <td>0.157277</td>\n",
              "      <td>1.000000</td>\n",
              "      <td>0.134615</td>\n",
              "      <td>1.000000</td>\n",
              "      <td>1.000000</td>\n",
              "      <td>0.066946</td>\n",
              "      <td>0.088710</td>\n",
              "      <td>0.152148</td>\n",
              "      <td>0.137952</td>\n",
              "      <td>0.358974</td>\n",
              "      <td>1.000000</td>\n",
              "      <td>0.183603</td>\n",
              "    </tr>\n",
              "    <tr>\n",
              "      <th>max</th>\n",
              "      <td>1.000000</td>\n",
              "      <td>1.000000</td>\n",
              "      <td>1.000000</td>\n",
              "      <td>1.000000</td>\n",
              "      <td>1.000000</td>\n",
              "      <td>1.000000</td>\n",
              "      <td>1.000000</td>\n",
              "      <td>1.000000</td>\n",
              "      <td>1.000000</td>\n",
              "      <td>1.000000</td>\n",
              "      <td>1.000000</td>\n",
              "      <td>1.000000</td>\n",
              "      <td>1.000000</td>\n",
              "      <td>1.000000</td>\n",
              "      <td>1.000000</td>\n",
              "      <td>1.000000</td>\n",
              "    </tr>\n",
              "  </tbody>\n",
              "</table>\n",
              "</div>"
            ],
            "text/plain": [
              "       has_anonymous_profile_picture  ...  average_likes\n",
              "count                     494.000000  ...     494.000000\n",
              "mean                        0.032389  ...       0.132738\n",
              "std                         0.177210  ...       0.127896\n",
              "min                         0.000000  ...       0.000000\n",
              "25%                         0.000000  ...       0.045046\n",
              "50%                         0.000000  ...       0.114185\n",
              "75%                         0.000000  ...       0.183603\n",
              "max                         1.000000  ...       1.000000\n",
              "\n",
              "[8 rows x 16 columns]"
            ]
          },
          "metadata": {},
          "execution_count": 67
        }
      ]
    }
  ]
}